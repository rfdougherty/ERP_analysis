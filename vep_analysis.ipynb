{
 "cells": [
  {
   "cell_type": "code",
   "execution_count": null,
   "metadata": {},
   "outputs": [],
   "source": [
    "%matplotlib notebook\n",
    "import mne\n",
    "import numpy as np\n",
    "import os\n",
    "import matplotlib.pyplot as plt\n",
    "import pandas as pd\n",
    "from datetime import datetime\n",
    "from sklearn import linear_model\n",
    "# athenacli -e prod -w3 -n0 -p KET -o . EEGTEST"
   ]
  },
  {
   "cell_type": "markdown",
   "metadata": {},
   "source": [
    "### Load the montage of sensor channel locations and set up the files to process."
   ]
  },
  {
   "cell_type": "code",
   "execution_count": null,
   "metadata": {},
   "outputs": [],
   "source": [
    "montage = mne.channels.read_montage('standard_1020')\n",
    "#edf_file = 'EEG_TEST_0001_raw.edf'\n",
    "#log_file = 'log3.csv'\n",
    "#edf_file = os.path.expanduser('~/data/eeg/20190701/aditya_TEST_raw.edf')\n",
    "#log_file = os.path.expanduser('~/data/eeg/20190701/adityaTest.csv')\n",
    "edf_file = os.path.expanduser('~/data/eeg/pilot/7_3_Charles/human_exam_number_raw.edf')\n",
    "log_file = os.path.expanduser('~/data/eeg/pilot/7_3_Charles/charles_test_july3.csv')"
   ]
  },
  {
   "cell_type": "code",
   "execution_count": null,
   "metadata": {},
   "outputs": [],
   "source": [
    "raw = mne.io.read_raw_edf(edf_file, stim_channel='Trigger', eog=['EEG X1-Pz'], \n",
    "                          misc=['EEG CM-Pz','EEG X2-Pz','EEG X3-Pz'])\n",
    "# Rename the channels so they match the standard montage channel names\n",
    "raw.rename_channels({c:c.replace('EEG ','').replace('-Pz','') for c in raw.ch_names})\n",
    "raw.set_montage(montage)\n",
    "eeg_sample_interval_ms = 1/raw.info['sfreq'] * 1000\n",
    "print(raw.info)\n",
    "#raw.plot_sensors()"
   ]
  },
  {
   "cell_type": "markdown",
   "metadata": {},
   "source": [
    "### Find the events"
   ]
  },
  {
   "cell_type": "code",
   "execution_count": null,
   "metadata": {},
   "outputs": [],
   "source": [
    "events = mne.find_events(raw)"
   ]
  },
  {
   "cell_type": "code",
   "execution_count": null,
   "metadata": {},
   "outputs": [],
   "source": [
    "logdf = pd.read_csv(log_file, header=None, names=['client_ts','trigger_ts','rtdelay','msg','uid'])\n",
    "logdf.client_ts = (logdf.client_ts * 1000).round().astype(int)\n",
    "logdf.trigger_ts = (logdf.trigger_ts * 1000).round().astype(int)\n",
    "logdf['bytecode'] = logdf.client_ts % 255 + 1\n",
    "logdf = logdf.sort_values('trigger_ts').reset_index(drop=True)\n",
    "#phone_start = 722\n",
    "#logdf = logdf.iloc[722:, :]\n",
    "#logdf.to_csv(os.path.dirname(log_file) + '/_log.csv')\n",
    "logdf.head()"
   ]
  },
  {
   "cell_type": "code",
   "execution_count": null,
   "metadata": {},
   "outputs": [],
   "source": [
    "eventdf = pd.DataFrame(events, columns=['time_idx','prev_diff','bytecode'])\n",
    "# NOTE: the eeg timestamp is local time, not UTC! Be sure to use the correct adjustment here.\n",
    "event_start_ts = int(raw.info['meas_date'][0]) + 7*60*60\n",
    "eventdf['eeg_ts'] = ((eventdf.time_idx / 300 + event_start_ts) * 1000).round().astype(int)\n",
    "eventdf.to_csv(os.path.dirname(log_file) + '/events.csv')\n",
    "np.sort(pd.unique(eventdf.bytecode))\n",
    "# bits for 2 and 32 are always 0"
   ]
  },
  {
   "cell_type": "markdown",
   "metadata": {},
   "source": [
    "### FIX FOR BAD BITS\n",
    "For the data collected on 2019-07-03, the bits representing 2 and 32 are always zero. So zero-out those bits in the log bytecode before finding matches."
   ]
  },
  {
   "cell_type": "code",
   "execution_count": null,
   "metadata": {},
   "outputs": [],
   "source": [
    "logdf.bytecode = logdf.bytecode.apply(lambda x: x&0b11011101)\n",
    "print(np.sort(pd.unique(logdf.bytecode)))\n",
    "print(pd.unique(logdf.msg))"
   ]
  },
  {
   "cell_type": "markdown",
   "metadata": {},
   "source": [
    "### Find the best-matching bytecode for each event"
   ]
  },
  {
   "cell_type": "code",
   "execution_count": null,
   "metadata": {},
   "outputs": [],
   "source": [
    "window = 1000 # +/-, in milliseconds\n",
    "match_inds = []\n",
    "for event_idx in eventdf.index:\n",
    "    tmp = logdf.loc[np.abs(eventdf.eeg_ts[event_idx] - logdf.trigger_ts) < window, :]\n",
    "    matches = tmp.index[tmp.bytecode == eventdf.bytecode[event_idx]]\n",
    "    if len(matches) > 0:\n",
    "        for match in matches:\n",
    "            # See if the surrounding bytecodes match. If so, add this to the list\n",
    "            keep = False\n",
    "            try:\n",
    "                keep = True\n",
    "                for idx in range(-3,4):\n",
    "                    if (tmp.bytecode[match + idx] != eventdf.bytecode[event_idx + idx]):\n",
    "                        keep = False\n",
    "                        continue\n",
    "            except:\n",
    "                #print(tmp.bytecode[match[0]+1], eventdf.bytecode[event_idx+1])\n",
    "                pass\n",
    "            if keep:\n",
    "                match_inds.append((logdf.msg[match], match, event_idx, logdf.trigger_ts[match], logdf.client_ts[match],\n",
    "                                    eventdf.eeg_ts[event_idx], eventdf.time_idx[event_idx], logdf.rtdelay[match]))\n",
    "                \n",
    "print('Found %d matching timepoints.' % len(match_inds))\n",
    "cols = ['msg','logdf_idx','eventdf_idx','trigger_ts','client_ts','eeg_ts','eeg_samp','rt_delay']\n",
    "matchdf = pd.DataFrame(data=match_inds, columns=cols)\n",
    "matchdf = matchdf.sort_values('client_ts').reset_index(drop=True)\n",
    "matchdf.loc[matchdf.rt_delay <= 0, 'rt_delay'] = np.nan\n",
    "matchdf.head()"
   ]
  },
  {
   "cell_type": "markdown",
   "metadata": {},
   "source": [
    "### Find the optimal fuzzy alignment between the log file and event bytecode sequence\n",
    "Piecewise-linear should be used to minimze the error accumulation across long recording runs.\n",
    "http://www.xavierdupre.fr/app/mlinsights/helpsphinx/notebooks/piecewise_linear_regression.html"
   ]
  },
  {
   "cell_type": "code",
   "execution_count": null,
   "metadata": {},
   "outputs": [],
   "source": [
    "tmp = matchdf.copy(deep=True).loc[matchdf.msg.isin(msgs),:]\n",
    "tmp.reset_index(inplace=True)\n",
    "tmp['netdelay'] = tmp.rt_delay.shift(-1) / 2\n",
    "tmp.netdelay.fillna(tmp.netdelay.mean(), inplace=True)\n",
    "#tmp.head()\n",
    "#plt.scatter(tmp.client_ts, tmp.trigger_ts, color='g')\n",
    "#plt.scatter(tmp.client_ts, tmp.trigger_ts-tmp.netdelay, color='b')"
   ]
  },
  {
   "cell_type": "code",
   "execution_count": null,
   "metadata": {},
   "outputs": [],
   "source": [
    "def fit_timestamps(matchdf, msgs, mad_scale=100, correct_delay=True, plot=False):\n",
    "    tmp = matchdf.copy(deep=True).loc[matchdf.msg.isin(msgs),:]\n",
    "    tmp.reset_index(inplace=True)\n",
    "    tmp['netdelay'] = np.nan\n",
    "    # the round-trip delay stored in row n is actually for row n-1 \n",
    "    tmp['netdelay'] = tmp.rt_delay.shift(-1) / 2\n",
    "    # mean-fill the net delay\n",
    "    delay_mean = tmp.netdelay.median()\n",
    "    delay_std = tmp.netdelay.std()\n",
    "    tmp.netdelay.fillna(delay_mean, inplace=True)\n",
    "    \n",
    "    # The eeg timestamps are shifted back in time, as if there were no network delay. This \n",
    "    # leaves the clock bias as only difference (on average) between the eeg and client timestamps.\n",
    "    x = tmp.client_ts.values\n",
    "    if correct_delay:\n",
    "        #y = tmp.eeg_ts.values - delay_mean\n",
    "        y = tmp.eeg_ts.values - tmp.netdelay\n",
    "        # FIXME-- should be tmp.netdelay, but we may have an issue with rt_times\n",
    "    else:\n",
    "        y = tmp.eeg_ts.values\n",
    "    # WORK HERE: \n",
    "    # Offset includes clock bias (same for all measurements) and the timing error for this one measurment.\n",
    "    # The intercept in the fitted model *should* take care of this, but may require more thought to be sure.\n",
    "    offset = y[0]\n",
    "    x = x - offset\n",
    "    y = y - offset\n",
    "\n",
    "    X = np.atleast_2d(x).T\n",
    "\n",
    "    # Robust linear fit\n",
    "    thresh = (np.abs(y - y.mean())).mean() / mad_scale\n",
    "    client_to_eeg = linear_model.RANSACRegressor(residual_threshold=thresh)\n",
    "    client_to_eeg.fit(X, y)\n",
    "    \n",
    "    x_keep = logdf.client_ts[logdf.msg.isin(msgs)].values - offset\n",
    "    predicted_eeg_ts = (client_to_eeg.predict(np.atleast_2d(np.array(x_keep)).T) + offset - event_start_ts*1000) \n",
    "    predicted_eeg_samp = (predicted_eeg_ts / (1000/300)).round().astype(int)\n",
    "    # Predict data of estimated models\n",
    "    if plot:\n",
    "        y_hat = client_to_eeg.predict(np.atleast_2d(x).T) \n",
    "        plt.plot(x, y, 'ro', x, y_hat, 'k-')\n",
    "        print('x0=%d, y0=%d, y_hat0=%d, offset=%d' % (x[0],y[0],int(round(y_hat[0])),offset))\n",
    "        print(client_to_eeg.estimator_.coef_[0], client_to_eeg.estimator_.intercept_)\n",
    "        outliers = np.argwhere(client_to_eeg.inlier_mask_ == False).flatten()\n",
    "        print(','.join([str(v) for v in outliers]))\n",
    "    print('using %s (options are: %s)' % (','.join(msgs), ', '.join(pd.unique(matchdf.msg))))\n",
    "    outmask = client_to_eeg.inlier_mask_ == False\n",
    "    print('Rejecting %d out of %d sample pairs.' % (outmask.sum(), len(outmask)))\n",
    "    print('Mean network delay: %0.2f ms (%0.2f stdev)' % (delay_mean, delay_std))\n",
    "    return predicted_eeg_samp,client_to_eeg,offset\n"
   ]
  },
  {
   "cell_type": "code",
   "execution_count": null,
   "metadata": {},
   "outputs": [],
   "source": [
    "msgs = ['imageFlip']\n",
    "#msgs = ['good click', 'bad click', 'early click']\n",
    "mad_scale = 10\n",
    "predicted_eeg_samp,client_to_eeg,offset = fit_timestamps(matchdf, msgs, mad_scale=mad_scale, correct_delay=True, plot=True)\n"
   ]
  },
  {
   "cell_type": "markdown",
   "metadata": {},
   "source": [
    "### Synthesize a corrected event sequence\n",
    "This new sequence takes into account the random delay from one even to the next and the average network delay. Because event trigger packets can arrive out-of-order, they needed to be resorted above to apply the proper delays. But now that everything is corrected, we can resort them based on the event timestamp so mne doesn't complain about a non-chronological event sequence."
   ]
  },
  {
   "cell_type": "code",
   "execution_count": null,
   "metadata": {},
   "outputs": [],
   "source": [
    "bias = int(round(0 / (1/.3)))\n",
    "predicted_eeg_samp,client_to_eeg,offset = fit_timestamps(matchdf, msgs, mad_scale=mad_scale, correct_delay=True)\n",
    "\n",
    "syn_event_df = pd.DataFrame([(i+bias,0,1) for i in predicted_eeg_samp], columns=['ts','diff','code'])\n",
    "raw_no_ref,_ = mne.set_eeg_reference(raw.load_data().filter(l_freq=None, h_freq=45), [])\n",
    "#raw_no_ref, _ = mne.set_eeg_reference(raw.load_data(), [])\n",
    "reject = dict(eeg=150e-6) # 180e-6, eog=150e-6)\n",
    "event_id, tmin, tmax = {'visual': 1}, -0.10, 0.5\n",
    "epochs_params = dict(events=syn_event_df.values, event_id=event_id, tmin=tmin, tmax=tmax, reject=reject)\n",
    "evoked_no_ref = mne.Epochs(raw_no_ref, **epochs_params).average()\n",
    "\n",
    "predicted_eeg_samp,client_to_eeg,offset = fit_timestamps(matchdf, msgs, correct_delay=False)\n",
    "syn_event_df = pd.DataFrame([(i+bias,0,1) for i in predicted_eeg_samp], columns=['ts','diff','code'])\n",
    "epochs_params = dict(events=syn_event_df.values, event_id=event_id, tmin=tmin, tmax=tmax, reject=reject)\n",
    "evoked_no_ref_uncorrected = mne.Epochs(raw_no_ref, **epochs_params).average()\n",
    "\n",
    "del raw_no_ref  # save memory"
   ]
  },
  {
   "cell_type": "code",
   "execution_count": null,
   "metadata": {},
   "outputs": [],
   "source": [
    "p = evoked_no_ref.plot(time_unit='ms', spatial_colors=True)\n",
    "#p = evoked_no_ref_uncorrected.plot(time_unit='ms', spatial_colors=True)\n",
    "#t = evoked_no_ref.plot_topomap(times=[0.075,0.1,0.125,.15,.175], size=1.0, title=title, time_unit='s')"
   ]
  },
  {
   "cell_type": "code",
   "execution_count": null,
   "metadata": {},
   "outputs": [],
   "source": [
    "#p = evoked_no_ref.plot(time_unit='ms', spatial_colors=True)\n",
    "p = evoked_no_ref_uncorrected.plot(time_unit='ms', spatial_colors=True)\n",
    "#t = evoked_no_ref.plot_topomap(times=[0.075,0.1,0.125,.15,.175], size=1.0, title=title, time_unit='s')"
   ]
  },
  {
   "cell_type": "markdown",
   "metadata": {},
   "source": [
    "### Sample code for doing frequency analysis"
   ]
  },
  {
   "cell_type": "code",
   "execution_count": null,
   "metadata": {},
   "outputs": [],
   "source": [
    "occ = raw.get_data(['O1','O2'])[:,predicted_eeg_idx[0]:predicted_eeg_idx[-1]]\n",
    "occ.shape"
   ]
  },
  {
   "cell_type": "code",
   "execution_count": null,
   "metadata": {},
   "outputs": [],
   "source": [
    "ft = np.fft.rfft(occ)\n",
    "T = eeg_sample_interval_ms / 1000\n",
    "xf = np.linspace(0.0, 1.0/(2.0*T), int(np.ceil(occ.shape[1]/2))+1)"
   ]
  },
  {
   "cell_type": "code",
   "execution_count": null,
   "metadata": {},
   "outputs": [],
   "source": [
    "fig = plt.Figure(figsize=(12,6))\n",
    "plt.plot(xf[100:1000], np.abs(ft[1,100:1000]))"
   ]
  },
  {
   "cell_type": "code",
   "execution_count": null,
   "metadata": {},
   "outputs": [],
   "source": [
    "logdf.head()"
   ]
  },
  {
   "cell_type": "code",
   "execution_count": null,
   "metadata": {},
   "outputs": [],
   "source": [
    "plt.plot(df.client_ts)"
   ]
  },
  {
   "cell_type": "code",
   "execution_count": null,
   "metadata": {},
   "outputs": [],
   "source": [
    "df.head()"
   ]
  },
  {
   "cell_type": "code",
   "execution_count": null,
   "metadata": {},
   "outputs": [],
   "source": [
    "raw.get_data().shape"
   ]
  },
  {
   "cell_type": "code",
   "execution_count": null,
   "metadata": {},
   "outputs": [],
   "source": []
  }
 ],
 "metadata": {
  "kernelspec": {
   "display_name": "Python 3",
   "language": "python",
   "name": "python3"
  },
  "language_info": {
   "codemirror_mode": {
    "name": "ipython",
    "version": 3
   },
   "file_extension": ".py",
   "mimetype": "text/x-python",
   "name": "python",
   "nbconvert_exporter": "python",
   "pygments_lexer": "ipython3",
   "version": "3.6.4"
  }
 },
 "nbformat": 4,
 "nbformat_minor": 2
}
