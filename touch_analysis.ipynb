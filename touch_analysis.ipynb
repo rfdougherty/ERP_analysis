{
 "cells": [
  {
   "cell_type": "code",
   "execution_count": null,
   "metadata": {},
   "outputs": [],
   "source": [
    "%matplotlib notebook\n",
    "import mne\n",
    "import numpy as np\n",
    "import os\n",
    "import matplotlib.pyplot as plt\n",
    "import pandas as pd\n",
    "from datetime import datetime\n",
    "# athenacli -e prod -w3 -n0 -p KET -o . EEGTEST"
   ]
  },
  {
   "cell_type": "markdown",
   "metadata": {},
   "source": [
    "### Load the montage of sensor channel locations and set up the files to process."
   ]
  },
  {
   "cell_type": "code",
   "execution_count": null,
   "metadata": {},
   "outputs": [],
   "source": [
    "montage = mne.channels.read_montage('standard_1020')\n",
    "#edf_file = 'EEG_TEST_0001_raw.edf'\n",
    "#log_file = 'log3.csv'\n",
    "edf_file = os.path.expanduser('~/data/eeg/20190701/aditya_TEST_raw.edf')\n",
    "log_file = os.path.expanduser('~/data/eeg/20190701/adityaTest.csv')"
   ]
  },
  {
   "cell_type": "code",
   "execution_count": null,
   "metadata": {},
   "outputs": [],
   "source": [
    "raw = mne.io.read_raw_edf(edf_file, stim_channel='Trigger', eog=['EEG X1-Pz'], \n",
    "                          misc=['EEG CM-Pz','EEG X2-Pz','EEG X3-Pz'])\n",
    "# Rename the channels so they match the standard montage channel names\n",
    "raw.rename_channels({c:c.replace('EEG ','').replace('-Pz','') for c in raw.ch_names})\n",
    "raw.set_montage(montage)\n",
    "eeg_sample_interval_ms = 1/raw.info['sfreq'] * 1000\n",
    "print(raw.info)\n",
    "#raw.plot_sensors()"
   ]
  },
  {
   "cell_type": "markdown",
   "metadata": {},
   "source": [
    "### Find the events"
   ]
  },
  {
   "cell_type": "code",
   "execution_count": null,
   "metadata": {},
   "outputs": [],
   "source": [
    "events = mne.find_events(raw)"
   ]
  },
  {
   "cell_type": "code",
   "execution_count": null,
   "metadata": {},
   "outputs": [],
   "source": [
    "logdf = pd.read_csv(log_file, header=None, names=['client_ts','trigger_ts','rtdelay','msg','uid'])\n",
    "logdf.client_ts = (logdf.client_ts * 1000).round().astype(int)\n",
    "logdf.trigger_ts = (logdf.trigger_ts * 1000).round().astype(int)\n",
    "logdf['bytecode'] = logdf.client_ts % 255 + 1\n",
    "logdf = logdf.sort_values('client_ts').reset_index(drop=True)\n",
    "#phone_start = 722\n",
    "#logdf = logdf.iloc[722:, :]\n",
    "logdf.head()"
   ]
  },
  {
   "cell_type": "code",
   "execution_count": null,
   "metadata": {},
   "outputs": [],
   "source": [
    "eventdf = pd.DataFrame(events, columns=['time_idx','prev_diff','bytecode'])\n",
    "# NOTE: the eeg timestamp is local time, not UTC! Be sure to use the correct adjustment here.\n",
    "start_ts = int(raw.info['meas_date'][0]) + 7*60*60\n",
    "eventdf['eeg_ts'] = ((eventdf.time_idx / 300 + start_ts) * 1000).round().astype(int)\n",
    "eventdf.head()"
   ]
  },
  {
   "cell_type": "code",
   "execution_count": null,
   "metadata": {},
   "outputs": [],
   "source": [
    "window = 30000 # +/-, in milliseconds\n",
    "matching_indices = []\n",
    "for event_idx in range(eventdf.shape[0] - 2):\n",
    "    tmp = logdf.loc[np.abs(eventdf.eeg_ts[event_idx] - logdf.trigger_ts) < window, :]\n",
    "    matches = np.argwhere(tmp.bytecode == eventdf.bytecode[event_idx])\n",
    "    if len(matches) > 0:\n",
    "        for match in matches:\n",
    "            # See if the next two match. If so, add this to the list\n",
    "            try:\n",
    "                if (tmp.bytecode[match[0]+1] == eventdf.bytecode[event_idx+1] \n",
    "                    and tmp.bytecode[match[0]+1] == eventdf.bytecode[event_idx+1]):\n",
    "                    matching_indices.append((event_idx,match[0]))\n",
    "                    continue\n",
    "            except:\n",
    "                pass\n",
    "\n",
    "        \n",
    "print(matching_indices)\n",
    "# WORK HERE\n",
    "# THIS ISN\"T WORKING-- NEEDS DEBUGGING\n"
   ]
  },
  {
   "cell_type": "markdown",
   "metadata": {},
   "source": [
    "### Find the optimal fuzzy alignment between the log file and event bytecode sequence"
   ]
  },
  {
   "cell_type": "code",
   "execution_count": null,
   "metadata": {},
   "outputs": [],
   "source": [
    "# Assume clocks are roughly matched (within a few seconds)\n",
    "logn = logdf.shape[0]\n",
    "eventn = eventdf.shape[0]\n",
    "deltas = np.abs(logdf.trigger_ts - eventdf.loc[eventdf_idx,'eeg_ts'])\n",
    "logdf_idx = deltas.idxmin()\n",
    "eventdf.head()"
   ]
  },
  {
   "cell_type": "code",
   "execution_count": null,
   "metadata": {},
   "outputs": [],
   "source": [
    "matching_pts = np.array([[1562017755197, 1562017748210], [1562018037437,1562018040407], [1562019562090,1562019570690]])\n",
    "y = matching_pts[:,0]\n",
    "x = matching_pts[:,1]\n",
    "offset = x[0]\n",
    "x = x - offset\n",
    "y = y - offset\n",
    "p = np.polyfit(x, y, 1)\n",
    "plt.plot(x, y, 'ro-', x, np.polyval(p,x), 'b-')"
   ]
  },
  {
   "cell_type": "markdown",
   "metadata": {},
   "source": [
    "### Find the best-matching bytecode for each event"
   ]
  },
  {
   "cell_type": "code",
   "execution_count": null,
   "metadata": {},
   "outputs": [],
   "source": [
    "# Compute the time delta to \n",
    "target_bytecode = eventdf.bytecode[0]\n",
    "target_time_idx = eventdf.time_idx[0]\n",
    "logdf['delta_to_event_start'] = logdf.trigger_ts - logdf.trigger_ts[logdf_idx]\n",
    "#logdf.loc[logdf_idx-10:logdf_idx+10]\n",
    "logdf.head()"
   ]
  },
  {
   "cell_type": "code",
   "execution_count": null,
   "metadata": {},
   "outputs": [],
   "source": [
    "window = 30000 # +/-, in milliseconds\n",
    "for event_idx in range(eventdf.shape[0]):\n",
    "    tmp = logdf.loc[np.abs(eventdf.eeg_ts - logdf.trigger_ts) < window, :]\n",
    "    \n",
    "    \n",
    "err = (logdf.loc[logdf.delta_to_event_center.abs() < window, 'bytecode'] - target_bytecode).abs()\n",
    "logdf_idx = err.idxmin()\n",
    "if err[logdf_idx] == 0:\n",
    "    print('Found an exactly matching bytecode (%d)!' % target_bytecode)\n",
    "else:\n",
    "    print('Closes matching bytecode for %d is %d.' %(target_bytecode, logdf.bytecode[logdf_idx]))\n",
    "\n",
    "# Compute event clock bias\n",
    "event_to_client_bias = eventdf.eeg_ts[eventdf_idx] - logdf.client_ts[logdf_idx]\n",
    "#netdelay = logdf.rtdelay[logdf.rtdelay>0].min()\n",
    "netdelay = logdf.rtdelay[logdf_idx] / 2\n",
    "if netdelay<=0:\n",
    "    netdelay = logdf.rtdelay[logdf.rtdelay>0].median() / 2\n",
    "# The bias is how far ahead (positive bias) or behind (negative) the EEG clock is relative to the client clock. \n",
    "# Since the event arrive netdelay milliseconds late, subtract netdelay from this bias. E.g., if we compute the bias\n",
    "# as 1000 ms, it should actually be 900 for a 100ms netdelay, since packets arrive 100ms after being sent.\n",
    "corrected_bias = event_to_client_bias - netdelay\n",
    "print('EEG clock bias is %d ms; netdelay = %d ms; corrected_bias = %d' % (event_to_client_bias, netdelay, corrected_bias))\n",
    "\n",
    "logdf['event_time_ms'] = (logdf.client_ts - logdf.client_ts[logdf_idx] + corrected_bias)\n",
    "logdf['event_time_idx'] = (logdf.event_time_ms / (1000./300.) + target_time_idx).round().astype(int)"
   ]
  },
  {
   "cell_type": "code",
   "execution_count": null,
   "metadata": {},
   "outputs": [],
   "source": [
    "eventdf.eeg_ts[eventdf_idx] - logdf.client_ts[logdf_idx]"
   ]
  },
  {
   "cell_type": "code",
   "execution_count": null,
   "metadata": {},
   "outputs": [],
   "source": [
    "#logdf.loc[logdf_idx-10:logdf_idx+10]\n",
    "logdf.loc[0:,:].head(40)"
   ]
  },
  {
   "cell_type": "code",
   "execution_count": null,
   "metadata": {},
   "outputs": [],
   "source": [
    "#np.polyfit(logdf.eeg_event_ts, logdf.client_ts/1000, 1)\n",
    "plt.plot(logdf.eeg_event_ts, logdf.client_ts/1000)"
   ]
  },
  {
   "cell_type": "markdown",
   "metadata": {},
   "source": [
    "### Merge events and log file\n",
    "Note that the sequence needs to be resorted based on the client timestamp, as logged events could come in out of order. I.e., an errant TCP packet can hit the trigger device after a subsequent packet."
   ]
  },
  {
   "cell_type": "code",
   "execution_count": null,
   "metadata": {},
   "outputs": [],
   "source": [
    "df = logdf.copy(deep=True).iloc[shift:shift+eventn,:]\n",
    "df['bytecodeEvent'] = events[:,2]\n",
    "#(df.bytecode==df.bytecodeEvent).sum()/df.shape[0]\n",
    "df['ts_event'] = events[:,0]\n",
    "df.sort_values('client_ts', inplace=True)\n",
    "df.reset_index(inplace=True, drop=True)\n",
    "df['delay'] = ((df.trigger_ts - df.client_ts) / eeg_sample_interval_ms).round().astype(int)\n",
    "df['ts_event_corrected'] = df.ts_event - df.delay\n",
    "\n",
    "# TODO: estimate network delay from round-trip times and use that to get an accurate client/tirgger clock bias\n",
    "clock_bias = df.delay.mean()\n",
    "print('clock_bias = %0.2fms' % clock_bias)"
   ]
  },
  {
   "cell_type": "markdown",
   "metadata": {},
   "source": [
    "### Synthesize a corrected event sequence\n",
    "This new sequence takes into account the random delay from one even to the next and the average network delay. Because event trigger packets can arrive out-of-order, they needed to be resorted above to apply the proper delays. But now that everything is corrected, we can resort them based on the event timestamp so mne doesn't complain about a non-chronological event sequence."
   ]
  },
  {
   "cell_type": "code",
   "execution_count": null,
   "metadata": {},
   "outputs": [],
   "source": [
    "eventdf_new = pd.DataFrame(columns=['ts','diff','code'])\n",
    "# clock_bias is in milliseconds-- convert to the EEG time stamps\n",
    "eventdf.ts = df.ts_event_corrected.values + int(round(clock_bias / eeg_sample_interval_ms))\n",
    "eventdf['diff'] = 0\n",
    "eventdf.code = 1\n",
    "eventdf.drop_duplicates(subset='ts', keep='first', inplace=True)\n",
    "eventdf = eventdf.sort_values('ts').reset_index(drop=True)\n",
    "#plt.plot(eventdf.ts)"
   ]
  },
  {
   "cell_type": "code",
   "execution_count": null,
   "metadata": {},
   "outputs": [],
   "source": [
    "raw_no_ref, _ = mne.set_eeg_reference(raw.load_data().filter(l_freq=None, h_freq=45), [])\n",
    "#raw_no_ref, _ = mne.set_eeg_reference(raw.load_data(), [])\n",
    "reject = dict(eeg=180e-6) # 180e-6, eog=150e-6)\n",
    "event_id, tmin, tmax = {'visual': 1}, -0.1, 0.5\n",
    "epochs_params = dict(events=eventdf.values, event_id=event_id, tmin=tmin, tmax=tmax, reject=reject)\n",
    "evoked_no_ref = mne.Epochs(raw_no_ref, **epochs_params).average()\n",
    "del raw_no_ref  # save memory"
   ]
  },
  {
   "cell_type": "code",
   "execution_count": null,
   "metadata": {},
   "outputs": [],
   "source": [
    "title = 'EEG Original reference'\n",
    "evoked_no_ref.plot(titles={'eeg':'title'}, time_unit='ms')#, picks=['O1','O2','P3','P4'])\n",
    "evoked_no_ref.plot_topomap(times=[0.075,0.1,0.125,.15,.175], size=1.0, title=title, time_unit='s')"
   ]
  },
  {
   "cell_type": "markdown",
   "metadata": {},
   "source": [
    "### Sample code for doing frequency analysis"
   ]
  },
  {
   "cell_type": "code",
   "execution_count": null,
   "metadata": {},
   "outputs": [],
   "source": [
    "occ = raw.get_data(['O1','O2'])"
   ]
  },
  {
   "cell_type": "code",
   "execution_count": null,
   "metadata": {},
   "outputs": [],
   "source": [
    "ft = np.fft.rfft(occ)\n",
    "T = eeg_sample_interval_ms / 1000\n",
    "xf = np.linspace(0.0, 1.0/(2.0*T), int(np.ceil(occ.shape[1]/2))+1)"
   ]
  },
  {
   "cell_type": "code",
   "execution_count": null,
   "metadata": {},
   "outputs": [],
   "source": [
    "fig = plt.Figure(figsize=(12,6))\n",
    "plt.plot(xf[100:15000], np.abs(ft[1,100:15000]))"
   ]
  },
  {
   "cell_type": "code",
   "execution_count": null,
   "metadata": {},
   "outputs": [],
   "source": [
    "logdf.head()"
   ]
  },
  {
   "cell_type": "code",
   "execution_count": null,
   "metadata": {},
   "outputs": [],
   "source": [
    "plt.plot(df.client_ts)"
   ]
  },
  {
   "cell_type": "code",
   "execution_count": null,
   "metadata": {},
   "outputs": [],
   "source": [
    "df.head()"
   ]
  },
  {
   "cell_type": "code",
   "execution_count": null,
   "metadata": {},
   "outputs": [],
   "source": [
    "raw.get_data().shape"
   ]
  },
  {
   "cell_type": "code",
   "execution_count": null,
   "metadata": {},
   "outputs": [],
   "source": []
  }
 ],
 "metadata": {
  "kernelspec": {
   "display_name": "Python 3",
   "language": "python",
   "name": "python3"
  },
  "language_info": {
   "codemirror_mode": {
    "name": "ipython",
    "version": 3
   },
   "file_extension": ".py",
   "mimetype": "text/x-python",
   "name": "python",
   "nbconvert_exporter": "python",
   "pygments_lexer": "ipython3",
   "version": "3.6.4"
  }
 },
 "nbformat": 4,
 "nbformat_minor": 2
}
